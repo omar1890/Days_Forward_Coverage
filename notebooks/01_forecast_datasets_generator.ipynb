{
 "cells": [
  {
   "cell_type": "markdown",
   "metadata": {},
   "source": [
    "`Notebook Description:` contains different methods for generating forcasting datasets\n",
    "- 1. Random Number Generation with Uniform Distribution\n",
    "- 2. Random Number Generation with Normal Distribution\n",
    "- 3. Generation with Incorporating Seasonality and Trends"
   ]
  },
  {
   "cell_type": "markdown",
   "metadata": {},
   "source": [
    "## Setup "
   ]
  },
  {
   "cell_type": "code",
   "execution_count": 3,
   "metadata": {},
   "outputs": [],
   "source": [
    "import os \n",
    "import pandas as pd\n",
    "import numpy as np \n",
    "import random"
   ]
  },
  {
   "cell_type": "code",
   "execution_count": null,
   "metadata": {},
   "outputs": [],
   "source": [
    "# Defining directory paths\n",
    "data_dir = '../data/generated/forecast/'"
   ]
  },
  {
   "cell_type": "code",
   "execution_count": 17,
   "metadata": {},
   "outputs": [],
   "source": [
    "# Set parameters\n",
    "num_products = 1000\n",
    "start_date = '2024-08-01'\n",
    "end_date = '2024-08-31'\n",
    "min_batches_per_product = 5\n",
    "date_range = pd.date_range(start=start_date, end=end_date)"
   ]
  },
  {
   "cell_type": "code",
   "execution_count": null,
   "metadata": {},
   "outputs": [],
   "source": [
    "# generate sequantial ids for the products \n",
    "products_ids = np.arange(1, num_products + 1)"
   ]
  },
  {
   "cell_type": "code",
   "execution_count": 38,
   "metadata": {},
   "outputs": [
    {
     "data": {
      "text/plain": [
       "DatetimeIndex(['2024-08-01', '2024-08-02', '2024-08-03', '2024-08-04',\n",
       "               '2024-08-05', '2024-08-06', '2024-08-07', '2024-08-08',\n",
       "               '2024-08-09', '2024-08-10', '2024-08-11', '2024-08-12',\n",
       "               '2024-08-13', '2024-08-14', '2024-08-15', '2024-08-16',\n",
       "               '2024-08-17', '2024-08-18', '2024-08-19', '2024-08-20',\n",
       "               '2024-08-21', '2024-08-22', '2024-08-23', '2024-08-24',\n",
       "               '2024-08-25', '2024-08-26', '2024-08-27', '2024-08-28',\n",
       "               '2024-08-29', '2024-08-30', '2024-08-31'],\n",
       "              dtype='datetime64[ns]', freq='D')"
      ]
     },
     "execution_count": 38,
     "metadata": {},
     "output_type": "execute_result"
    }
   ],
   "source": [
    "date_range"
   ]
  },
  {
   "cell_type": "markdown",
   "metadata": {},
   "source": [
    "## Generate a toy forecast dataset \n",
    "for at least 1000 products and 31 days prediction horizon."
   ]
  },
  {
   "cell_type": "markdown",
   "metadata": {},
   "source": [
    "### 1. Random Number Generation with Uniform Distribution\n",
    "- Assign forecasted sales using a uniform distribution, where each product has an equal chance of selling any number within a defined range."
   ]
  },
  {
   "cell_type": "code",
   "execution_count": null,
   "metadata": {},
   "outputs": [],
   "source": [
    "# Pick a random number as minmum and another random number as maxmum to be a range for forecast\n",
    "min_forcasted_sales = 5 \n",
    "max_forcasted_sales = 200"
   ]
  },
  {
   "cell_type": "code",
   "execution_count": null,
   "metadata": {},
   "outputs": [
    {
     "name": "stdout",
     "output_type": "stream",
     "text": [
      "31000\n"
     ]
    }
   ],
   "source": [
    "random_generated_data = []\n",
    "for product_id in products_ids:\n",
    "    for date in date_range:\n",
    "        forecasted_sales  = random.randint(min_forcasted_sales, max_forcasted_sales) \n",
    "        random_generated_data.append((product_id, date, forecasted_sales ))\n",
    "\n",
    "print(len(random_generated_data))"
   ]
  },
  {
   "cell_type": "code",
   "execution_count": 22,
   "metadata": {},
   "outputs": [],
   "source": [
    "# Convert to DataFrame\n",
    "random_forecast_df = pd.DataFrame(random_generated_data, columns=[\"PRODUCT_ID\", \"DATE\", \"FORECASTED_SALES\"])\n"
   ]
  },
  {
   "cell_type": "code",
   "execution_count": 24,
   "metadata": {},
   "outputs": [
    {
     "data": {
      "text/html": [
       "<div>\n",
       "<style scoped>\n",
       "    .dataframe tbody tr th:only-of-type {\n",
       "        vertical-align: middle;\n",
       "    }\n",
       "\n",
       "    .dataframe tbody tr th {\n",
       "        vertical-align: top;\n",
       "    }\n",
       "\n",
       "    .dataframe thead th {\n",
       "        text-align: right;\n",
       "    }\n",
       "</style>\n",
       "<table border=\"1\" class=\"dataframe\">\n",
       "  <thead>\n",
       "    <tr style=\"text-align: right;\">\n",
       "      <th></th>\n",
       "      <th>PRODUCT_ID</th>\n",
       "      <th>DATE</th>\n",
       "      <th>FORECASTED_SALES</th>\n",
       "    </tr>\n",
       "  </thead>\n",
       "  <tbody>\n",
       "    <tr>\n",
       "      <th>0</th>\n",
       "      <td>1</td>\n",
       "      <td>2024-08-01</td>\n",
       "      <td>186</td>\n",
       "    </tr>\n",
       "    <tr>\n",
       "      <th>1</th>\n",
       "      <td>1</td>\n",
       "      <td>2024-08-02</td>\n",
       "      <td>137</td>\n",
       "    </tr>\n",
       "    <tr>\n",
       "      <th>2</th>\n",
       "      <td>1</td>\n",
       "      <td>2024-08-03</td>\n",
       "      <td>54</td>\n",
       "    </tr>\n",
       "    <tr>\n",
       "      <th>3</th>\n",
       "      <td>1</td>\n",
       "      <td>2024-08-04</td>\n",
       "      <td>119</td>\n",
       "    </tr>\n",
       "    <tr>\n",
       "      <th>4</th>\n",
       "      <td>1</td>\n",
       "      <td>2024-08-05</td>\n",
       "      <td>36</td>\n",
       "    </tr>\n",
       "  </tbody>\n",
       "</table>\n",
       "</div>"
      ],
      "text/plain": [
       "   PRODUCT_ID       DATE  FORECASTED_SALES\n",
       "0           1 2024-08-01               186\n",
       "1           1 2024-08-02               137\n",
       "2           1 2024-08-03                54\n",
       "3           1 2024-08-04               119\n",
       "4           1 2024-08-05                36"
      ]
     },
     "execution_count": 24,
     "metadata": {},
     "output_type": "execute_result"
    }
   ],
   "source": [
    "random_forecast_df.head()"
   ]
  },
  {
   "cell_type": "code",
   "execution_count": 25,
   "metadata": {},
   "outputs": [
    {
     "data": {
      "text/html": [
       "<div>\n",
       "<style scoped>\n",
       "    .dataframe tbody tr th:only-of-type {\n",
       "        vertical-align: middle;\n",
       "    }\n",
       "\n",
       "    .dataframe tbody tr th {\n",
       "        vertical-align: top;\n",
       "    }\n",
       "\n",
       "    .dataframe thead th {\n",
       "        text-align: right;\n",
       "    }\n",
       "</style>\n",
       "<table border=\"1\" class=\"dataframe\">\n",
       "  <thead>\n",
       "    <tr style=\"text-align: right;\">\n",
       "      <th></th>\n",
       "      <th>PRODUCT_ID</th>\n",
       "      <th>DATE</th>\n",
       "      <th>FORECASTED_SALES</th>\n",
       "    </tr>\n",
       "  </thead>\n",
       "  <tbody>\n",
       "    <tr>\n",
       "      <th>count</th>\n",
       "      <td>31000.000000</td>\n",
       "      <td>31000</td>\n",
       "      <td>31000.000000</td>\n",
       "    </tr>\n",
       "    <tr>\n",
       "      <th>mean</th>\n",
       "      <td>500.500000</td>\n",
       "      <td>2024-08-16 00:00:00</td>\n",
       "      <td>102.225194</td>\n",
       "    </tr>\n",
       "    <tr>\n",
       "      <th>min</th>\n",
       "      <td>1.000000</td>\n",
       "      <td>2024-08-01 00:00:00</td>\n",
       "      <td>5.000000</td>\n",
       "    </tr>\n",
       "    <tr>\n",
       "      <th>25%</th>\n",
       "      <td>250.750000</td>\n",
       "      <td>2024-08-08 00:00:00</td>\n",
       "      <td>53.000000</td>\n",
       "    </tr>\n",
       "    <tr>\n",
       "      <th>50%</th>\n",
       "      <td>500.500000</td>\n",
       "      <td>2024-08-16 00:00:00</td>\n",
       "      <td>102.000000</td>\n",
       "    </tr>\n",
       "    <tr>\n",
       "      <th>75%</th>\n",
       "      <td>750.250000</td>\n",
       "      <td>2024-08-24 00:00:00</td>\n",
       "      <td>151.000000</td>\n",
       "    </tr>\n",
       "    <tr>\n",
       "      <th>max</th>\n",
       "      <td>1000.000000</td>\n",
       "      <td>2024-08-31 00:00:00</td>\n",
       "      <td>200.000000</td>\n",
       "    </tr>\n",
       "    <tr>\n",
       "      <th>std</th>\n",
       "      <td>288.679646</td>\n",
       "      <td>NaN</td>\n",
       "      <td>56.434726</td>\n",
       "    </tr>\n",
       "  </tbody>\n",
       "</table>\n",
       "</div>"
      ],
      "text/plain": [
       "         PRODUCT_ID                 DATE  FORECASTED_SALES\n",
       "count  31000.000000                31000      31000.000000\n",
       "mean     500.500000  2024-08-16 00:00:00        102.225194\n",
       "min        1.000000  2024-08-01 00:00:00          5.000000\n",
       "25%      250.750000  2024-08-08 00:00:00         53.000000\n",
       "50%      500.500000  2024-08-16 00:00:00        102.000000\n",
       "75%      750.250000  2024-08-24 00:00:00        151.000000\n",
       "max     1000.000000  2024-08-31 00:00:00        200.000000\n",
       "std      288.679646                  NaN         56.434726"
      ]
     },
     "execution_count": 25,
     "metadata": {},
     "output_type": "execute_result"
    }
   ],
   "source": [
    "random_forecast_df.describe()"
   ]
  },
  {
   "cell_type": "markdown",
   "metadata": {},
   "source": [
    "**Considerations:**\n",
    "\n",
    "- This method is simple but may not reflect realistic sales patterns.\n",
    "- All products will have similar sales distributions, lacking differentiation."
   ]
  },
  {
   "cell_type": "markdown",
   "metadata": {},
   "source": [
    "### 2.Random Number Generation with Normal Distribution\n",
    "- Use a normal (Gaussian) distribution to generate sales forecasts, allowing for more realistic variation around a mean value."
   ]
  },
  {
   "cell_type": "code",
   "execution_count": null,
   "metadata": {},
   "outputs": [],
   "source": [
    "# generate two random lists of means and stds for each product\n",
    "mean_sales = np.random.randint(10, 51, num_products)\n",
    "std_dev_sales = np.random.randint(3, 10, num_products) "
   ]
  },
  {
   "cell_type": "code",
   "execution_count": 33,
   "metadata": {},
   "outputs": [
    {
     "data": {
      "text/plain": [
       "[{'PRODUCT_ID': 1,\n",
       "  'DATE': Timestamp('2024-08-01 00:00:00'),\n",
       "  'FORECASTED_SALES': np.int64(44)},\n",
       " {'PRODUCT_ID': 1,\n",
       "  'DATE': Timestamp('2024-08-02 00:00:00'),\n",
       "  'FORECASTED_SALES': np.int64(45)},\n",
       " {'PRODUCT_ID': 1,\n",
       "  'DATE': Timestamp('2024-08-03 00:00:00'),\n",
       "  'FORECASTED_SALES': np.int64(49)},\n",
       " {'PRODUCT_ID': 1,\n",
       "  'DATE': Timestamp('2024-08-04 00:00:00'),\n",
       "  'FORECASTED_SALES': np.int64(49)},\n",
       " {'PRODUCT_ID': 1,\n",
       "  'DATE': Timestamp('2024-08-05 00:00:00'),\n",
       "  'FORECASTED_SALES': np.int64(50)}]"
      ]
     },
     "execution_count": 33,
     "metadata": {},
     "output_type": "execute_result"
    }
   ],
   "source": [
    "random_ND_generated_data = []\n",
    "for product_id in range(1,num_products+1):\n",
    "    mean = mean_sales[product_id-1]\n",
    "    std_dev = std_dev_sales[product_id-1] \n",
    "    \n",
    "    sales_forcast = np.random.normal(mean, std_dev, len(date_range)) # generate float values and may negative \n",
    "    \n",
    "    sales_forcast = np.maximum(0, sales_forcast).astype(int) \n",
    "    \n",
    "    for date, forecast in zip(date_range, sales_forcast):\n",
    "        random_ND_generated_data.append(\n",
    "             {\n",
    "                \"PRODUCT_ID\": product_id,\n",
    "                \"DATE\": date,\n",
    "                \"FORECASTED_SALES\": forecast\n",
    "             })\n",
    "    \n",
    "random_ND_generated_data[:5]"
   ]
  },
  {
   "cell_type": "code",
   "execution_count": 34,
   "metadata": {},
   "outputs": [
    {
     "data": {
      "text/html": [
       "<div>\n",
       "<style scoped>\n",
       "    .dataframe tbody tr th:only-of-type {\n",
       "        vertical-align: middle;\n",
       "    }\n",
       "\n",
       "    .dataframe tbody tr th {\n",
       "        vertical-align: top;\n",
       "    }\n",
       "\n",
       "    .dataframe thead th {\n",
       "        text-align: right;\n",
       "    }\n",
       "</style>\n",
       "<table border=\"1\" class=\"dataframe\">\n",
       "  <thead>\n",
       "    <tr style=\"text-align: right;\">\n",
       "      <th></th>\n",
       "      <th>PRODUCT_ID</th>\n",
       "      <th>DATE</th>\n",
       "      <th>FORECASTED_SALES</th>\n",
       "    </tr>\n",
       "  </thead>\n",
       "  <tbody>\n",
       "    <tr>\n",
       "      <th>0</th>\n",
       "      <td>1</td>\n",
       "      <td>2024-08-01</td>\n",
       "      <td>44</td>\n",
       "    </tr>\n",
       "    <tr>\n",
       "      <th>1</th>\n",
       "      <td>1</td>\n",
       "      <td>2024-08-02</td>\n",
       "      <td>45</td>\n",
       "    </tr>\n",
       "    <tr>\n",
       "      <th>2</th>\n",
       "      <td>1</td>\n",
       "      <td>2024-08-03</td>\n",
       "      <td>49</td>\n",
       "    </tr>\n",
       "    <tr>\n",
       "      <th>3</th>\n",
       "      <td>1</td>\n",
       "      <td>2024-08-04</td>\n",
       "      <td>49</td>\n",
       "    </tr>\n",
       "    <tr>\n",
       "      <th>4</th>\n",
       "      <td>1</td>\n",
       "      <td>2024-08-05</td>\n",
       "      <td>50</td>\n",
       "    </tr>\n",
       "  </tbody>\n",
       "</table>\n",
       "</div>"
      ],
      "text/plain": [
       "   PRODUCT_ID       DATE  FORECASTED_SALES\n",
       "0           1 2024-08-01                44\n",
       "1           1 2024-08-02                45\n",
       "2           1 2024-08-03                49\n",
       "3           1 2024-08-04                49\n",
       "4           1 2024-08-05                50"
      ]
     },
     "execution_count": 34,
     "metadata": {},
     "output_type": "execute_result"
    }
   ],
   "source": [
    "# generate dataframe from it \n",
    "random_ND_forecast_df = pd.DataFrame(random_ND_generated_data)\n",
    "random_ND_forecast_df.head()"
   ]
  },
  {
   "cell_type": "code",
   "execution_count": 35,
   "metadata": {},
   "outputs": [
    {
     "data": {
      "text/html": [
       "<div>\n",
       "<style scoped>\n",
       "    .dataframe tbody tr th:only-of-type {\n",
       "        vertical-align: middle;\n",
       "    }\n",
       "\n",
       "    .dataframe tbody tr th {\n",
       "        vertical-align: top;\n",
       "    }\n",
       "\n",
       "    .dataframe thead th {\n",
       "        text-align: right;\n",
       "    }\n",
       "</style>\n",
       "<table border=\"1\" class=\"dataframe\">\n",
       "  <thead>\n",
       "    <tr style=\"text-align: right;\">\n",
       "      <th></th>\n",
       "      <th>PRODUCT_ID</th>\n",
       "      <th>DATE</th>\n",
       "      <th>FORECASTED_SALES</th>\n",
       "    </tr>\n",
       "  </thead>\n",
       "  <tbody>\n",
       "    <tr>\n",
       "      <th>count</th>\n",
       "      <td>31000.000000</td>\n",
       "      <td>31000</td>\n",
       "      <td>31000.000000</td>\n",
       "    </tr>\n",
       "    <tr>\n",
       "      <th>mean</th>\n",
       "      <td>500.500000</td>\n",
       "      <td>2024-08-16 00:00:00</td>\n",
       "      <td>29.516548</td>\n",
       "    </tr>\n",
       "    <tr>\n",
       "      <th>min</th>\n",
       "      <td>1.000000</td>\n",
       "      <td>2024-08-01 00:00:00</td>\n",
       "      <td>0.000000</td>\n",
       "    </tr>\n",
       "    <tr>\n",
       "      <th>25%</th>\n",
       "      <td>250.750000</td>\n",
       "      <td>2024-08-08 00:00:00</td>\n",
       "      <td>19.000000</td>\n",
       "    </tr>\n",
       "    <tr>\n",
       "      <th>50%</th>\n",
       "      <td>500.500000</td>\n",
       "      <td>2024-08-16 00:00:00</td>\n",
       "      <td>29.000000</td>\n",
       "    </tr>\n",
       "    <tr>\n",
       "      <th>75%</th>\n",
       "      <td>750.250000</td>\n",
       "      <td>2024-08-24 00:00:00</td>\n",
       "      <td>40.000000</td>\n",
       "    </tr>\n",
       "    <tr>\n",
       "      <th>max</th>\n",
       "      <td>1000.000000</td>\n",
       "      <td>2024-08-31 00:00:00</td>\n",
       "      <td>75.000000</td>\n",
       "    </tr>\n",
       "    <tr>\n",
       "      <th>std</th>\n",
       "      <td>288.679646</td>\n",
       "      <td>NaN</td>\n",
       "      <td>13.467324</td>\n",
       "    </tr>\n",
       "  </tbody>\n",
       "</table>\n",
       "</div>"
      ],
      "text/plain": [
       "         PRODUCT_ID                 DATE  FORECASTED_SALES\n",
       "count  31000.000000                31000      31000.000000\n",
       "mean     500.500000  2024-08-16 00:00:00         29.516548\n",
       "min        1.000000  2024-08-01 00:00:00          0.000000\n",
       "25%      250.750000  2024-08-08 00:00:00         19.000000\n",
       "50%      500.500000  2024-08-16 00:00:00         29.000000\n",
       "75%      750.250000  2024-08-24 00:00:00         40.000000\n",
       "max     1000.000000  2024-08-31 00:00:00         75.000000\n",
       "std      288.679646                  NaN         13.467324"
      ]
     },
     "execution_count": 35,
     "metadata": {},
     "output_type": "execute_result"
    }
   ],
   "source": [
    "random_ND_forecast_df.describe()"
   ]
  },
  {
   "cell_type": "markdown",
   "metadata": {},
   "source": [
    "**Considerations:**\n",
    "\n",
    "- Provides more realistic variability.\n",
    "- May still lack seasonality or trends unless further adjusted."
   ]
  },
  {
   "cell_type": "markdown",
   "metadata": {},
   "source": [
    "### 3.Generation with Incorporating Seasonality and Trends\n",
    "- Simulate patterns such as weekdays vs. weekends, holidays, or promotional periods."
   ]
  },
  {
   "cell_type": "markdown",
   "metadata": {},
   "source": [
    "##### Steps:\n",
    "\n",
    "1. **Identify Seasonal Factors**:\n",
    "   - Weekends may have higher or lower sales.\n",
    "   - Certain dates (e.g., August holidays) might influence demand.\n",
    "\n",
    "2. **Define Baseline Sales**:\n",
    "   - Establish a base sales number for each product.\n",
    "\n",
    "3. **Apply Seasonal Adjustments**:\n",
    "   - Modify the baseline sales using factors that represent seasonality (e.g., increase sales by 20% on weekends).\n",
    "\n",
    "4. **Add Random Variation**:\n",
    "   - Introduce randomness around the adjusted sales to mimic real-world unpredictability.\n"
   ]
  },
  {
   "cell_type": "code",
   "execution_count": 49,
   "metadata": {},
   "outputs": [],
   "source": [
    "# for date in date_range:\n",
    "#     print(date, ' ', date.weekday())"
   ]
  },
  {
   "cell_type": "code",
   "execution_count": 65,
   "metadata": {},
   "outputs": [
    {
     "data": {
      "text/plain": [
       "[{'PRODUCT_ID': np.int64(1),\n",
       "  'DATE': Timestamp('2024-08-01 00:00:00'),\n",
       "  'FORECASTED_SALES': 22},\n",
       " {'PRODUCT_ID': np.int64(1),\n",
       "  'DATE': Timestamp('2024-08-02 00:00:00'),\n",
       "  'FORECASTED_SALES': 26},\n",
       " {'PRODUCT_ID': np.int64(1),\n",
       "  'DATE': Timestamp('2024-08-03 00:00:00'),\n",
       "  'FORECASTED_SALES': 26},\n",
       " {'PRODUCT_ID': np.int64(1),\n",
       "  'DATE': Timestamp('2024-08-04 00:00:00'),\n",
       "  'FORECASTED_SALES': 22},\n",
       " {'PRODUCT_ID': np.int64(1),\n",
       "  'DATE': Timestamp('2024-08-05 00:00:00'),\n",
       "  'FORECASTED_SALES': 22}]"
      ]
     },
     "execution_count": 65,
     "metadata": {},
     "output_type": "execute_result"
    }
   ],
   "source": [
    "seasonality_data = []\n",
    "for product_id in products_ids:\n",
    "    base_sales = np.random.randint(min_forcasted_sales, max_forcasted_sales) # use the same range for step 1    \n",
    "    for date in date_range:\n",
    "        if date.weekday() in [4,5]:  # Egyption weekdays Friday and Saturday\n",
    "            sales = base_sales * 1.2  # Increase by 20%\n",
    "        else:  # weekends\n",
    "            sales = base_sales\n",
    "        \n",
    "        seasonality_data.append({\n",
    "            \"PRODUCT_ID\": product_id,\n",
    "            \"DATE\": date,\n",
    "            \"FORECASTED_SALES\": int(sales) #generate float values \n",
    "        })\n",
    "seasonality_data[:5]"
   ]
  },
  {
   "cell_type": "code",
   "execution_count": 66,
   "metadata": {},
   "outputs": [
    {
     "data": {
      "text/html": [
       "<div>\n",
       "<style scoped>\n",
       "    .dataframe tbody tr th:only-of-type {\n",
       "        vertical-align: middle;\n",
       "    }\n",
       "\n",
       "    .dataframe tbody tr th {\n",
       "        vertical-align: top;\n",
       "    }\n",
       "\n",
       "    .dataframe thead th {\n",
       "        text-align: right;\n",
       "    }\n",
       "</style>\n",
       "<table border=\"1\" class=\"dataframe\">\n",
       "  <thead>\n",
       "    <tr style=\"text-align: right;\">\n",
       "      <th></th>\n",
       "      <th>PRODUCT_ID</th>\n",
       "      <th>DATE</th>\n",
       "      <th>FORECASTED_SALES</th>\n",
       "    </tr>\n",
       "  </thead>\n",
       "  <tbody>\n",
       "    <tr>\n",
       "      <th>0</th>\n",
       "      <td>1</td>\n",
       "      <td>2024-08-01</td>\n",
       "      <td>22</td>\n",
       "    </tr>\n",
       "    <tr>\n",
       "      <th>1</th>\n",
       "      <td>1</td>\n",
       "      <td>2024-08-02</td>\n",
       "      <td>26</td>\n",
       "    </tr>\n",
       "    <tr>\n",
       "      <th>2</th>\n",
       "      <td>1</td>\n",
       "      <td>2024-08-03</td>\n",
       "      <td>26</td>\n",
       "    </tr>\n",
       "    <tr>\n",
       "      <th>3</th>\n",
       "      <td>1</td>\n",
       "      <td>2024-08-04</td>\n",
       "      <td>22</td>\n",
       "    </tr>\n",
       "    <tr>\n",
       "      <th>4</th>\n",
       "      <td>1</td>\n",
       "      <td>2024-08-05</td>\n",
       "      <td>22</td>\n",
       "    </tr>\n",
       "  </tbody>\n",
       "</table>\n",
       "</div>"
      ],
      "text/plain": [
       "   PRODUCT_ID       DATE  FORECASTED_SALES\n",
       "0           1 2024-08-01                22\n",
       "1           1 2024-08-02                26\n",
       "2           1 2024-08-03                26\n",
       "3           1 2024-08-04                22\n",
       "4           1 2024-08-05                22"
      ]
     },
     "execution_count": 66,
     "metadata": {},
     "output_type": "execute_result"
    }
   ],
   "source": [
    "# Create DataFrame\n",
    "seasonality_df = pd.DataFrame(seasonality_data, columns=['PRODUCT_ID', 'DATE', 'FORECASTED_SALES'])\n",
    "seasonality_df.head()"
   ]
  },
  {
   "cell_type": "markdown",
   "metadata": {},
   "source": [
    "**Considerations:**\n",
    "- Reflects more realistic sales patterns."
   ]
  },
  {
   "cell_type": "markdown",
   "metadata": {},
   "source": [
    "### 4.Clustering Products into Categories with Different Sales Patterns \n",
    "`(Not Implemented)`  **Future Enhancement**\n",
    "\n",
    "- Group products into categories (e.g., high-demand, medium-demand, low-demand) and assign different sales behaviors."
   ]
  },
  {
   "cell_type": "markdown",
   "metadata": {},
   "source": [
    "**Considerations:**\n",
    "- Introduces product differentiation.\n",
    "- Mimics real-world scenarios where products have varying demand levels."
   ]
  },
  {
   "cell_type": "markdown",
   "metadata": {},
   "source": [
    "### Testing the dataframes lengths of different methods"
   ]
  },
  {
   "cell_type": "code",
   "execution_count": 67,
   "metadata": {},
   "outputs": [],
   "source": [
    "#enusre shapes of each dataframe\n",
    "assert random_forecast_df.shape == random_ND_forecast_df.shape == seasonality_df.shape"
   ]
  },
  {
   "cell_type": "code",
   "execution_count": 68,
   "metadata": {},
   "outputs": [],
   "source": [
    "#enusre columns of each dataframe\n",
    "assert list(random_forecast_df.columns) == list(random_ND_forecast_df.columns) == list(seasonality_df.columns)"
   ]
  },
  {
   "cell_type": "markdown",
   "metadata": {},
   "source": [
    "### Saving results csv files"
   ]
  },
  {
   "cell_type": "code",
   "execution_count": 69,
   "metadata": {},
   "outputs": [],
   "source": [
    "random_forecast_df.to_csv(data_dir+'method_1_uniform_random_forecast.csv', index=False)\n",
    "random_ND_forecast_df.to_csv(data_dir+'method_2_random_ND_forecast.csv', index=False)\n",
    "seasonality_df.to_csv(data_dir+'method_3_seasonality_forecast.csv', index=False)"
   ]
  }
 ],
 "metadata": {
  "kernelspec": {
   "display_name": "bf_venv",
   "language": "python",
   "name": "python3"
  },
  "language_info": {
   "codemirror_mode": {
    "name": "ipython",
    "version": 3
   },
   "file_extension": ".py",
   "mimetype": "text/x-python",
   "name": "python",
   "nbconvert_exporter": "python",
   "pygments_lexer": "ipython3",
   "version": "3.11.9"
  }
 },
 "nbformat": 4,
 "nbformat_minor": 2
}
