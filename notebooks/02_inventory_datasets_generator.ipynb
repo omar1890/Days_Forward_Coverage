{
 "cells": [
  {
   "cell_type": "markdown",
   "metadata": {},
   "source": [
    "`Notebook Description:` contains different methods for generating Inventory datasets\n",
    "- 1. Random Number Generation with Uniform Distribution\n",
    "- 2. Random Number Generation with Normal Distribution\n",
    "- 3. Generation with Incorporating Seasonality and Trends"
   ]
  },
  {
   "cell_type": "markdown",
   "metadata": {},
   "source": [
    "## Setup "
   ]
  },
  {
   "cell_type": "code",
   "execution_count": 1,
   "metadata": {},
   "outputs": [],
   "source": [
    "import os \n",
    "import pandas as pd\n",
    "import numpy as np \n",
    "import random"
   ]
  },
  {
   "cell_type": "code",
   "execution_count": null,
   "metadata": {},
   "outputs": [],
   "source": [
    "# Defining directory paths\n",
    "data_dir = '../data/generated/inventory/'"
   ]
  },
  {
   "cell_type": "code",
   "execution_count": 16,
   "metadata": {},
   "outputs": [],
   "source": [
    "# Set parameters\n",
    "num_products = 1000\n",
    "start_date = '2024-08-01'\n",
    "end_date = '2024-08-31'\n",
    "\n",
    "min_batches_per_product = 5\n",
    "\n",
    "date_range = pd.date_range(start=start_date, end=end_date)\n",
    "\n",
    "start_expiry = '2024-08-01'\n",
    "end_expiry = '2024-08-31'\n",
    "\n",
    "INVENTORY_COLUMNS = [\"PRODUCT_ID\", \"BATCH_ID\", \"EXPIRY_DATE\", \"INVENTORY\"]"
   ]
  },
  {
   "cell_type": "code",
   "execution_count": 4,
   "metadata": {},
   "outputs": [],
   "source": [
    "# generate sequantial ids for the products \n",
    "products_ids = np.arange(1, num_products + 1)"
   ]
  },
  {
   "cell_type": "code",
   "execution_count": 5,
   "metadata": {},
   "outputs": [
    {
     "data": {
      "text/plain": [
       "DatetimeIndex(['2024-08-01', '2024-08-02', '2024-08-03', '2024-08-04',\n",
       "               '2024-08-05', '2024-08-06', '2024-08-07', '2024-08-08',\n",
       "               '2024-08-09', '2024-08-10', '2024-08-11', '2024-08-12',\n",
       "               '2024-08-13', '2024-08-14', '2024-08-15', '2024-08-16',\n",
       "               '2024-08-17', '2024-08-18', '2024-08-19', '2024-08-20',\n",
       "               '2024-08-21', '2024-08-22', '2024-08-23', '2024-08-24',\n",
       "               '2024-08-25', '2024-08-26', '2024-08-27', '2024-08-28',\n",
       "               '2024-08-29', '2024-08-30', '2024-08-31'],\n",
       "              dtype='datetime64[ns]', freq='D')"
      ]
     },
     "execution_count": 5,
     "metadata": {},
     "output_type": "execute_result"
    }
   ],
   "source": [
    "date_range"
   ]
  },
  {
   "cell_type": "markdown",
   "metadata": {},
   "source": [
    "## Generate a toy inventory dataset \n",
    "with the same 1000 products and at least 5 batches for each product with different expiry dates."
   ]
  },
  {
   "cell_type": "markdown",
   "metadata": {},
   "source": [
    "### 1. Random Number Generation with Uniform Distribution\n",
    "- Assign inventoryed sales using a uniform distribution, where each product has an equal chance of selling any number within a defined range."
   ]
  },
  {
   "cell_type": "code",
   "execution_count": null,
   "metadata": {},
   "outputs": [],
   "source": [
    "# Pick a random number as minmum and another random number as maxmum to be a range for inventory and expiry_date\n",
    "min_inventory = 10\n",
    "max_inventory = 100"
   ]
  },
  {
   "cell_type": "code",
   "execution_count": 14,
   "metadata": {},
   "outputs": [
    {
     "data": {
      "text/plain": [
       "[[1, 1, '07/08/2024', 89],\n",
       " [1, 2, '12/08/2024', 33],\n",
       " [1, 3, '17/08/2024', 56],\n",
       " [1, 4, '28/08/2024', 58],\n",
       " [1, 5, '31/08/2024', 80]]"
      ]
     },
     "execution_count": 14,
     "metadata": {},
     "output_type": "execute_result"
    }
   ],
   "source": [
    "random_inventory_generated_data = []\n",
    "for product_id in products_ids:\n",
    "    num_batches = np.random.randint(min_batches_per_product, min_batches_per_product + 3)  \n",
    "    batch_ids = range(1, num_batches + 1)\n",
    "    # Generate random expiry dates within the date range\n",
    "    expiry_dates = pd.to_datetime(np.random.choice(pd.date_range(start_expiry, end_expiry), size=num_batches, replace=False))\n",
    "    # Sort expiry dates to simulate realistic batch expiries\n",
    "    expiry_dates = expiry_dates.sort_values()\n",
    "    # Generate random inventory levels\n",
    "    inventories = np.random.randint(min_inventory, max_inventory + 1, size=num_batches)\n",
    "    \n",
    "    for batch_id, expiry_date, inventory in zip(batch_ids, expiry_dates, inventories):\n",
    "        random_inventory_generated_data.append([\n",
    "            int(product_id),\n",
    "            int(batch_id),\n",
    "            expiry_date.strftime('%d/%m/%Y'),\n",
    "            int(inventory)\n",
    "        ])\n",
    "random_inventory_generated_data[:5]"
   ]
  },
  {
   "cell_type": "code",
   "execution_count": 17,
   "metadata": {},
   "outputs": [],
   "source": [
    "# Convert to DataFrame\n",
    "random_inventory_df = pd.DataFrame(random_inventory_generated_data, columns=INVENTORY_COLUMNS)"
   ]
  },
  {
   "cell_type": "code",
   "execution_count": 18,
   "metadata": {},
   "outputs": [
    {
     "data": {
      "text/html": [
       "<div>\n",
       "<style scoped>\n",
       "    .dataframe tbody tr th:only-of-type {\n",
       "        vertical-align: middle;\n",
       "    }\n",
       "\n",
       "    .dataframe tbody tr th {\n",
       "        vertical-align: top;\n",
       "    }\n",
       "\n",
       "    .dataframe thead th {\n",
       "        text-align: right;\n",
       "    }\n",
       "</style>\n",
       "<table border=\"1\" class=\"dataframe\">\n",
       "  <thead>\n",
       "    <tr style=\"text-align: right;\">\n",
       "      <th></th>\n",
       "      <th>PRODUCT_ID</th>\n",
       "      <th>BATCH_ID</th>\n",
       "      <th>EXPIRY_DATE</th>\n",
       "      <th>INVENTORY</th>\n",
       "    </tr>\n",
       "  </thead>\n",
       "  <tbody>\n",
       "    <tr>\n",
       "      <th>0</th>\n",
       "      <td>1</td>\n",
       "      <td>1</td>\n",
       "      <td>07/08/2024</td>\n",
       "      <td>89</td>\n",
       "    </tr>\n",
       "    <tr>\n",
       "      <th>1</th>\n",
       "      <td>1</td>\n",
       "      <td>2</td>\n",
       "      <td>12/08/2024</td>\n",
       "      <td>33</td>\n",
       "    </tr>\n",
       "    <tr>\n",
       "      <th>2</th>\n",
       "      <td>1</td>\n",
       "      <td>3</td>\n",
       "      <td>17/08/2024</td>\n",
       "      <td>56</td>\n",
       "    </tr>\n",
       "    <tr>\n",
       "      <th>3</th>\n",
       "      <td>1</td>\n",
       "      <td>4</td>\n",
       "      <td>28/08/2024</td>\n",
       "      <td>58</td>\n",
       "    </tr>\n",
       "    <tr>\n",
       "      <th>4</th>\n",
       "      <td>1</td>\n",
       "      <td>5</td>\n",
       "      <td>31/08/2024</td>\n",
       "      <td>80</td>\n",
       "    </tr>\n",
       "  </tbody>\n",
       "</table>\n",
       "</div>"
      ],
      "text/plain": [
       "   PRODUCT_ID  BATCH_ID EXPIRY_DATE  INVENTORY\n",
       "0           1         1  07/08/2024         89\n",
       "1           1         2  12/08/2024         33\n",
       "2           1         3  17/08/2024         56\n",
       "3           1         4  28/08/2024         58\n",
       "4           1         5  31/08/2024         80"
      ]
     },
     "execution_count": 18,
     "metadata": {},
     "output_type": "execute_result"
    }
   ],
   "source": [
    "random_inventory_df.head()"
   ]
  },
  {
   "cell_type": "code",
   "execution_count": 20,
   "metadata": {},
   "outputs": [
    {
     "data": {
      "text/plain": [
       "('01/08/2024', '31/08/2024')"
      ]
     },
     "execution_count": 20,
     "metadata": {},
     "output_type": "execute_result"
    }
   ],
   "source": [
    "random_inventory_df.EXPIRY_DATE.min(), random_inventory_df.EXPIRY_DATE.max()"
   ]
  },
  {
   "cell_type": "code",
   "execution_count": 21,
   "metadata": {},
   "outputs": [
    {
     "data": {
      "text/plain": [
       "np.int64(10)"
      ]
     },
     "execution_count": 21,
     "metadata": {},
     "output_type": "execute_result"
    }
   ],
   "source": [
    "random_inventory_df.INVENTORY.min()"
   ]
  },
  {
   "cell_type": "code",
   "execution_count": 19,
   "metadata": {},
   "outputs": [
    {
     "data": {
      "text/html": [
       "<div>\n",
       "<style scoped>\n",
       "    .dataframe tbody tr th:only-of-type {\n",
       "        vertical-align: middle;\n",
       "    }\n",
       "\n",
       "    .dataframe tbody tr th {\n",
       "        vertical-align: top;\n",
       "    }\n",
       "\n",
       "    .dataframe thead th {\n",
       "        text-align: right;\n",
       "    }\n",
       "</style>\n",
       "<table border=\"1\" class=\"dataframe\">\n",
       "  <thead>\n",
       "    <tr style=\"text-align: right;\">\n",
       "      <th></th>\n",
       "      <th>PRODUCT_ID</th>\n",
       "      <th>BATCH_ID</th>\n",
       "      <th>INVENTORY</th>\n",
       "    </tr>\n",
       "  </thead>\n",
       "  <tbody>\n",
       "    <tr>\n",
       "      <th>count</th>\n",
       "      <td>6033.000000</td>\n",
       "      <td>6033.000000</td>\n",
       "      <td>6033.000000</td>\n",
       "    </tr>\n",
       "    <tr>\n",
       "      <th>mean</th>\n",
       "      <td>501.759158</td>\n",
       "      <td>3.572684</td>\n",
       "      <td>55.118681</td>\n",
       "    </tr>\n",
       "    <tr>\n",
       "      <th>std</th>\n",
       "      <td>288.299403</td>\n",
       "      <td>1.812240</td>\n",
       "      <td>26.329493</td>\n",
       "    </tr>\n",
       "    <tr>\n",
       "      <th>min</th>\n",
       "      <td>1.000000</td>\n",
       "      <td>1.000000</td>\n",
       "      <td>10.000000</td>\n",
       "    </tr>\n",
       "    <tr>\n",
       "      <th>25%</th>\n",
       "      <td>253.000000</td>\n",
       "      <td>2.000000</td>\n",
       "      <td>32.000000</td>\n",
       "    </tr>\n",
       "    <tr>\n",
       "      <th>50%</th>\n",
       "      <td>502.000000</td>\n",
       "      <td>4.000000</td>\n",
       "      <td>55.000000</td>\n",
       "    </tr>\n",
       "    <tr>\n",
       "      <th>75%</th>\n",
       "      <td>752.000000</td>\n",
       "      <td>5.000000</td>\n",
       "      <td>78.000000</td>\n",
       "    </tr>\n",
       "    <tr>\n",
       "      <th>max</th>\n",
       "      <td>1000.000000</td>\n",
       "      <td>7.000000</td>\n",
       "      <td>100.000000</td>\n",
       "    </tr>\n",
       "  </tbody>\n",
       "</table>\n",
       "</div>"
      ],
      "text/plain": [
       "        PRODUCT_ID     BATCH_ID    INVENTORY\n",
       "count  6033.000000  6033.000000  6033.000000\n",
       "mean    501.759158     3.572684    55.118681\n",
       "std     288.299403     1.812240    26.329493\n",
       "min       1.000000     1.000000    10.000000\n",
       "25%     253.000000     2.000000    32.000000\n",
       "50%     502.000000     4.000000    55.000000\n",
       "75%     752.000000     5.000000    78.000000\n",
       "max    1000.000000     7.000000   100.000000"
      ]
     },
     "execution_count": 19,
     "metadata": {},
     "output_type": "execute_result"
    }
   ],
   "source": [
    "random_inventory_df.describe()"
   ]
  },
  {
   "cell_type": "markdown",
   "metadata": {},
   "source": [
    "**Constraints Verification:**\n",
    "- At least 5 batches per product: Ensured by setting min_batches = 5.\n",
    "- Expiry dates between August 1st and August 31st, 2024: Achieved by selecting dates within this range.:"
   ]
  },
  {
   "cell_type": "markdown",
   "metadata": {},
   "source": [
    "### 2.Random Number Generation with Normal Distribution\n",
    "- Use a normal (Gaussian) distribution to generate sales inventorys, allowing for more realistic variation around a mean value."
   ]
  },
  {
   "cell_type": "code",
   "execution_count": 22,
   "metadata": {},
   "outputs": [],
   "source": [
    "mean_inventory = 50\n",
    "std_dev_inventory = 15"
   ]
  },
  {
   "cell_type": "code",
   "execution_count": 25,
   "metadata": {},
   "outputs": [
    {
     "data": {
      "text/plain": [
       "[[1, 1, '09/08/2024', 32],\n",
       " [1, 2, '10/08/2024', 59],\n",
       " [1, 3, '11/08/2024', 34],\n",
       " [1, 4, '20/08/2024', 39],\n",
       " [1, 5, '21/08/2024', 37]]"
      ]
     },
     "execution_count": 25,
     "metadata": {},
     "output_type": "execute_result"
    }
   ],
   "source": [
    "random_ND_inventory_data = []\n",
    "\n",
    "for product_id in products_ids:\n",
    "    num_batches = np.random.randint(min_batches_per_product, min_batches_per_product + 3)\n",
    "    batch_ids = range(1, num_batches + 1)\n",
    "    expiry_dates = pd.to_datetime(np.random.choice(pd.date_range(start_expiry, end_expiry), size=num_batches, replace=False))\n",
    "    expiry_dates = expiry_dates.sort_values()\n",
    "    # Generate inventory levels using normal distribution\n",
    "    inventories = np.random.normal(loc=mean_inventory, scale=std_dev_inventory, size=num_batches)\n",
    "    # Ensure inventories are non-negative and rounded\n",
    "    inventories = [max(1, int(round(inv))) for inv in inventories]\n",
    "    \n",
    "    for batch_id, expiry_date, inventory in zip(batch_ids, expiry_dates, inventories):\n",
    "        random_ND_inventory_data.append([\n",
    "            int(product_id),\n",
    "            int(batch_id),\n",
    "            expiry_date.strftime('%d/%m/%Y'),\n",
    "            int(inventory)\n",
    "        ])\n",
    "    \n",
    "random_ND_inventory_data[:5]"
   ]
  },
  {
   "cell_type": "code",
   "execution_count": 27,
   "metadata": {},
   "outputs": [
    {
     "data": {
      "text/html": [
       "<div>\n",
       "<style scoped>\n",
       "    .dataframe tbody tr th:only-of-type {\n",
       "        vertical-align: middle;\n",
       "    }\n",
       "\n",
       "    .dataframe tbody tr th {\n",
       "        vertical-align: top;\n",
       "    }\n",
       "\n",
       "    .dataframe thead th {\n",
       "        text-align: right;\n",
       "    }\n",
       "</style>\n",
       "<table border=\"1\" class=\"dataframe\">\n",
       "  <thead>\n",
       "    <tr style=\"text-align: right;\">\n",
       "      <th></th>\n",
       "      <th>PRODUCT_ID</th>\n",
       "      <th>BATCH_ID</th>\n",
       "      <th>EXPIRY_DATE</th>\n",
       "      <th>INVENTORY</th>\n",
       "    </tr>\n",
       "  </thead>\n",
       "  <tbody>\n",
       "    <tr>\n",
       "      <th>0</th>\n",
       "      <td>1</td>\n",
       "      <td>1</td>\n",
       "      <td>09/08/2024</td>\n",
       "      <td>32</td>\n",
       "    </tr>\n",
       "    <tr>\n",
       "      <th>1</th>\n",
       "      <td>1</td>\n",
       "      <td>2</td>\n",
       "      <td>10/08/2024</td>\n",
       "      <td>59</td>\n",
       "    </tr>\n",
       "    <tr>\n",
       "      <th>2</th>\n",
       "      <td>1</td>\n",
       "      <td>3</td>\n",
       "      <td>11/08/2024</td>\n",
       "      <td>34</td>\n",
       "    </tr>\n",
       "    <tr>\n",
       "      <th>3</th>\n",
       "      <td>1</td>\n",
       "      <td>4</td>\n",
       "      <td>20/08/2024</td>\n",
       "      <td>39</td>\n",
       "    </tr>\n",
       "    <tr>\n",
       "      <th>4</th>\n",
       "      <td>1</td>\n",
       "      <td>5</td>\n",
       "      <td>21/08/2024</td>\n",
       "      <td>37</td>\n",
       "    </tr>\n",
       "  </tbody>\n",
       "</table>\n",
       "</div>"
      ],
      "text/plain": [
       "   PRODUCT_ID  BATCH_ID EXPIRY_DATE  INVENTORY\n",
       "0           1         1  09/08/2024         32\n",
       "1           1         2  10/08/2024         59\n",
       "2           1         3  11/08/2024         34\n",
       "3           1         4  20/08/2024         39\n",
       "4           1         5  21/08/2024         37"
      ]
     },
     "execution_count": 27,
     "metadata": {},
     "output_type": "execute_result"
    }
   ],
   "source": [
    "# generate dataframe from it \n",
    "random_ND_inventory_df = pd.DataFrame(random_ND_inventory_data, columns=INVENTORY_COLUMNS)\n",
    "random_ND_inventory_df.head()"
   ]
  },
  {
   "cell_type": "code",
   "execution_count": 28,
   "metadata": {},
   "outputs": [
    {
     "data": {
      "text/html": [
       "<div>\n",
       "<style scoped>\n",
       "    .dataframe tbody tr th:only-of-type {\n",
       "        vertical-align: middle;\n",
       "    }\n",
       "\n",
       "    .dataframe tbody tr th {\n",
       "        vertical-align: top;\n",
       "    }\n",
       "\n",
       "    .dataframe thead th {\n",
       "        text-align: right;\n",
       "    }\n",
       "</style>\n",
       "<table border=\"1\" class=\"dataframe\">\n",
       "  <thead>\n",
       "    <tr style=\"text-align: right;\">\n",
       "      <th></th>\n",
       "      <th>PRODUCT_ID</th>\n",
       "      <th>BATCH_ID</th>\n",
       "      <th>INVENTORY</th>\n",
       "    </tr>\n",
       "  </thead>\n",
       "  <tbody>\n",
       "    <tr>\n",
       "      <th>count</th>\n",
       "      <td>6040.000000</td>\n",
       "      <td>6040.000000</td>\n",
       "      <td>6040.000000</td>\n",
       "    </tr>\n",
       "    <tr>\n",
       "      <th>mean</th>\n",
       "      <td>500.048013</td>\n",
       "      <td>3.575662</td>\n",
       "      <td>50.057119</td>\n",
       "    </tr>\n",
       "    <tr>\n",
       "      <th>std</th>\n",
       "      <td>288.653646</td>\n",
       "      <td>1.813339</td>\n",
       "      <td>14.843642</td>\n",
       "    </tr>\n",
       "    <tr>\n",
       "      <th>min</th>\n",
       "      <td>1.000000</td>\n",
       "      <td>1.000000</td>\n",
       "      <td>3.000000</td>\n",
       "    </tr>\n",
       "    <tr>\n",
       "      <th>25%</th>\n",
       "      <td>250.000000</td>\n",
       "      <td>2.000000</td>\n",
       "      <td>40.000000</td>\n",
       "    </tr>\n",
       "    <tr>\n",
       "      <th>50%</th>\n",
       "      <td>501.500000</td>\n",
       "      <td>4.000000</td>\n",
       "      <td>50.000000</td>\n",
       "    </tr>\n",
       "    <tr>\n",
       "      <th>75%</th>\n",
       "      <td>750.000000</td>\n",
       "      <td>5.000000</td>\n",
       "      <td>60.000000</td>\n",
       "    </tr>\n",
       "    <tr>\n",
       "      <th>max</th>\n",
       "      <td>1000.000000</td>\n",
       "      <td>7.000000</td>\n",
       "      <td>103.000000</td>\n",
       "    </tr>\n",
       "  </tbody>\n",
       "</table>\n",
       "</div>"
      ],
      "text/plain": [
       "        PRODUCT_ID     BATCH_ID    INVENTORY\n",
       "count  6040.000000  6040.000000  6040.000000\n",
       "mean    500.048013     3.575662    50.057119\n",
       "std     288.653646     1.813339    14.843642\n",
       "min       1.000000     1.000000     3.000000\n",
       "25%     250.000000     2.000000    40.000000\n",
       "50%     501.500000     4.000000    50.000000\n",
       "75%     750.000000     5.000000    60.000000\n",
       "max    1000.000000     7.000000   103.000000"
      ]
     },
     "execution_count": 28,
     "metadata": {},
     "output_type": "execute_result"
    }
   ],
   "source": [
    "random_ND_inventory_df.describe()"
   ]
  },
  {
   "cell_type": "markdown",
   "metadata": {},
   "source": [
    "**Constraints Verification:**\n",
    "\n",
    "- At least 5 batches per product: As before, ensured via min_batches.\n",
    "- Expiry dates within range: Dates are selected from the specified range."
   ]
  },
  {
   "cell_type": "markdown",
   "metadata": {},
   "source": [
    "### 3.Generation with Incorporating Seasonality and Trends\n",
    "- Simulate patterns such as weekdays vs. weekends, holidays, or promotional periods."
   ]
  },
  {
   "cell_type": "markdown",
   "metadata": {},
   "source": [
    "##### Steps:\n",
    "\n",
    "1. **Identify Seasonal Factors:**:\n",
    "   - Weekends: Inventory levels may be higher or lower due to anticipated changes in demand.\n",
    "   - Specific Dates: Certain days (e.g., holidays) might influence inventory requirements.\n",
    "  \n",
    "2. **Define Baseline Inventory:**:\n",
    "   - Establish a base inventory level for each product, representing the typical batch size\n",
    "\n",
    "3. **Apply Seasonal Adjustments:**:\n",
    "   - Modify the baseline inventory using factors that represent seasonality (e.g., increase inventory by 20% for batches expiring on weekends).\n",
    "\n",
    "4. **Add Random Variation**:\n",
    "   - Introduce randomness to the adjusted inventory levels to mimic real-world unpredictability.\n"
   ]
  },
  {
   "cell_type": "code",
   "execution_count": 29,
   "metadata": {},
   "outputs": [],
   "source": [
    "dates = pd.date_range(start=start_expiry, end=end_expiry)\n",
    "weekend_days = dates[dates.weekday >= 4].strftime('%d/%m/%Y').tolist() # Egyption weekdays Friday and Saturday"
   ]
  },
  {
   "cell_type": "code",
   "execution_count": 30,
   "metadata": {},
   "outputs": [
    {
     "data": {
      "text/plain": [
       "['02/08/2024',\n",
       " '03/08/2024',\n",
       " '04/08/2024',\n",
       " '09/08/2024',\n",
       " '10/08/2024',\n",
       " '11/08/2024',\n",
       " '16/08/2024',\n",
       " '17/08/2024',\n",
       " '18/08/2024',\n",
       " '23/08/2024',\n",
       " '24/08/2024',\n",
       " '25/08/2024',\n",
       " '30/08/2024',\n",
       " '31/08/2024']"
      ]
     },
     "execution_count": 30,
     "metadata": {},
     "output_type": "execute_result"
    }
   ],
   "source": [
    "weekend_days"
   ]
  },
  {
   "cell_type": "code",
   "execution_count": 33,
   "metadata": {},
   "outputs": [
    {
     "data": {
      "text/plain": [
       "[[1, 1, '01/08/2024', 158],\n",
       " [1, 2, '03/08/2024', 145],\n",
       " [1, 3, '06/08/2024', 121],\n",
       " [1, 4, '21/08/2024', 115],\n",
       " [1, 5, '22/08/2024', 114]]"
      ]
     },
     "execution_count": 33,
     "metadata": {},
     "output_type": "execute_result"
    }
   ],
   "source": [
    "inventory_seasonality_data = []\n",
    "for product_id in range(1, num_products + 1):\n",
    "    baseline_inventory = np.random.randint(50, 150)\n",
    "    num_batches = np.random.randint(min_batches_per_product, min_batches_per_product + 3)\n",
    "    \n",
    "    # Generate expiry dates and sort them\n",
    "    expiry_dates = np.random.choice(dates, size=num_batches, replace=False)\n",
    "    expiry_dates.sort()\n",
    "    \n",
    "    # Generate batches\n",
    "    for i, expiry_date in enumerate(expiry_dates):\n",
    "        # Convert numpy.datetime64 to Python datetime object\n",
    "        expiry_date = pd.to_datetime(expiry_date)\n",
    "        expiry_date_str = expiry_date.strftime('%d/%m/%Y')\n",
    "        \n",
    "        # Step 3: Apply seasonal adjustments\n",
    "        inventory_level = baseline_inventory\n",
    "        \n",
    "        # If the expiry date is on a weekend, increase inventory by 20%\n",
    "        if expiry_date.weekday() >= 5:  # Check if it's a weekend\n",
    "            inventory_level *= 1.2\n",
    "        \n",
    "        # Step 4: Add random variation\n",
    "        inventory_level += np.random.normal(0, baseline_inventory * 0.1)\n",
    "        \n",
    "        # Ensure inventory is at least 1 and round\n",
    "        inventory_level = max(1, int(round(inventory_level)))\n",
    "        \n",
    "        # Assign batch ID\n",
    "        batch_id = i + 1\n",
    "        \n",
    "        # Compile data\n",
    "        inventory_seasonality_data.append([\n",
    "            int(product_id),\n",
    "            int(batch_id),\n",
    "            expiry_date_str,\n",
    "            int(inventory_level)\n",
    "        ])\n",
    "\n",
    "inventory_seasonality_data[:5]\n"
   ]
  },
  {
   "cell_type": "code",
   "execution_count": 35,
   "metadata": {},
   "outputs": [
    {
     "data": {
      "text/html": [
       "<div>\n",
       "<style scoped>\n",
       "    .dataframe tbody tr th:only-of-type {\n",
       "        vertical-align: middle;\n",
       "    }\n",
       "\n",
       "    .dataframe tbody tr th {\n",
       "        vertical-align: top;\n",
       "    }\n",
       "\n",
       "    .dataframe thead th {\n",
       "        text-align: right;\n",
       "    }\n",
       "</style>\n",
       "<table border=\"1\" class=\"dataframe\">\n",
       "  <thead>\n",
       "    <tr style=\"text-align: right;\">\n",
       "      <th></th>\n",
       "      <th>PRODUCT_ID</th>\n",
       "      <th>BATCH_ID</th>\n",
       "      <th>EXPIRY_DATE</th>\n",
       "      <th>INVENTORY</th>\n",
       "    </tr>\n",
       "  </thead>\n",
       "  <tbody>\n",
       "    <tr>\n",
       "      <th>0</th>\n",
       "      <td>1</td>\n",
       "      <td>1</td>\n",
       "      <td>01/08/2024</td>\n",
       "      <td>158</td>\n",
       "    </tr>\n",
       "    <tr>\n",
       "      <th>1</th>\n",
       "      <td>1</td>\n",
       "      <td>2</td>\n",
       "      <td>03/08/2024</td>\n",
       "      <td>145</td>\n",
       "    </tr>\n",
       "    <tr>\n",
       "      <th>2</th>\n",
       "      <td>1</td>\n",
       "      <td>3</td>\n",
       "      <td>06/08/2024</td>\n",
       "      <td>121</td>\n",
       "    </tr>\n",
       "    <tr>\n",
       "      <th>3</th>\n",
       "      <td>1</td>\n",
       "      <td>4</td>\n",
       "      <td>21/08/2024</td>\n",
       "      <td>115</td>\n",
       "    </tr>\n",
       "    <tr>\n",
       "      <th>4</th>\n",
       "      <td>1</td>\n",
       "      <td>5</td>\n",
       "      <td>22/08/2024</td>\n",
       "      <td>114</td>\n",
       "    </tr>\n",
       "  </tbody>\n",
       "</table>\n",
       "</div>"
      ],
      "text/plain": [
       "   PRODUCT_ID  BATCH_ID EXPIRY_DATE  INVENTORY\n",
       "0           1         1  01/08/2024        158\n",
       "1           1         2  03/08/2024        145\n",
       "2           1         3  06/08/2024        121\n",
       "3           1         4  21/08/2024        115\n",
       "4           1         5  22/08/2024        114"
      ]
     },
     "execution_count": 35,
     "metadata": {},
     "output_type": "execute_result"
    }
   ],
   "source": [
    "# Create DataFrame\n",
    "inventory_seasonality_df = pd.DataFrame(inventory_seasonality_data, columns=INVENTORY_COLUMNS)\n",
    "inventory_seasonality_df.head()"
   ]
  },
  {
   "cell_type": "markdown",
   "metadata": {},
   "source": [
    "**Constraints Verification:**\n",
    "\n",
    "- At least 5 batches per product: As before, ensured via min_batches.\n",
    "- Expiry dates within range: Dates are selected from the specified range."
   ]
  },
  {
   "cell_type": "markdown",
   "metadata": {},
   "source": [
    "### 4.Clustering Products into Categories with Different Sales Patterns \n",
    "`(Not Implemented)`  **Future Enhancement**\n",
    "\n",
    "- Group products into categories (e.g., high-demand, medium-demand, low-demand) and assign different sales behaviors."
   ]
  },
  {
   "cell_type": "markdown",
   "metadata": {},
   "source": [
    "### Testing the dataframes lengths of different methods"
   ]
  },
  {
   "cell_type": "code",
   "execution_count": 37,
   "metadata": {},
   "outputs": [],
   "source": [
    "#enusre columns of each dataframe\n",
    "assert list(random_inventory_df.columns) == list(random_ND_inventory_df.columns) == list(inventory_seasonality_df.columns)"
   ]
  },
  {
   "cell_type": "markdown",
   "metadata": {},
   "source": [
    "### Saving results csv files"
   ]
  },
  {
   "cell_type": "code",
   "execution_count": 41,
   "metadata": {},
   "outputs": [],
   "source": [
    "random_inventory_df.to_csv(data_dir+'method_1_uniform_random_inventory.csv', index=False)\n",
    "random_ND_inventory_df.to_csv(data_dir+'method_2_random_ND_inventory.csv', index=False)\n",
    "inventory_seasonality_df.to_csv(data_dir+'method_3_seasonality_inventory.csv', index=False)"
   ]
  }
 ],
 "metadata": {
  "kernelspec": {
   "display_name": "bf_venv",
   "language": "python",
   "name": "python3"
  },
  "language_info": {
   "codemirror_mode": {
    "name": "ipython",
    "version": 3
   },
   "file_extension": ".py",
   "mimetype": "text/x-python",
   "name": "python",
   "nbconvert_exporter": "python",
   "pygments_lexer": "ipython3",
   "version": "3.11.9"
  }
 },
 "nbformat": 4,
 "nbformat_minor": 2
}
